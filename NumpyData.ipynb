{
 "metadata": {
  "language_info": {
   "codemirror_mode": {
    "name": "ipython",
    "version": 3
   },
   "file_extension": ".py",
   "mimetype": "text/x-python",
   "name": "python",
   "nbconvert_exporter": "python",
   "pygments_lexer": "ipython3",
   "version": "3.8.3-final"
  },
  "orig_nbformat": 2,
  "kernelspec": {
   "name": "python3",
   "display_name": "Python 3"
  }
 },
 "nbformat": 4,
 "nbformat_minor": 2,
 "cells": [
  {
   "cell_type": "code",
   "execution_count": 19,
   "metadata": {},
   "outputs": [],
   "source": [
    "import pandas as pd\n",
    "import numpy as np\n",
    "import matplotlib.pyplot as plt\n",
    "from pathlib import Path\n",
    "from keras.preprocessing import image"
   ]
  },
  {
   "cell_type": "code",
   "execution_count": 2,
   "metadata": {},
   "outputs": [
    {
     "output_type": "execute_result",
     "data": {
      "text/plain": [
       "   Word Status        FileName\n",
       "0     A     ok  a01-000u-00-00\n",
       "1  MOVE     ok  a01-000u-00-01\n",
       "2    to     ok  a01-000u-00-02\n",
       "3  stop     ok  a01-000u-00-03\n",
       "4   Mr.     ok  a01-000u-00-04"
      ],
      "text/html": "<div>\n<style scoped>\n    .dataframe tbody tr th:only-of-type {\n        vertical-align: middle;\n    }\n\n    .dataframe tbody tr th {\n        vertical-align: top;\n    }\n\n    .dataframe thead th {\n        text-align: right;\n    }\n</style>\n<table border=\"1\" class=\"dataframe\">\n  <thead>\n    <tr style=\"text-align: right;\">\n      <th></th>\n      <th>Word</th>\n      <th>Status</th>\n      <th>FileName</th>\n    </tr>\n  </thead>\n  <tbody>\n    <tr>\n      <th>0</th>\n      <td>A</td>\n      <td>ok</td>\n      <td>a01-000u-00-00</td>\n    </tr>\n    <tr>\n      <th>1</th>\n      <td>MOVE</td>\n      <td>ok</td>\n      <td>a01-000u-00-01</td>\n    </tr>\n    <tr>\n      <th>2</th>\n      <td>to</td>\n      <td>ok</td>\n      <td>a01-000u-00-02</td>\n    </tr>\n    <tr>\n      <th>3</th>\n      <td>stop</td>\n      <td>ok</td>\n      <td>a01-000u-00-03</td>\n    </tr>\n    <tr>\n      <th>4</th>\n      <td>Mr.</td>\n      <td>ok</td>\n      <td>a01-000u-00-04</td>\n    </tr>\n  </tbody>\n</table>\n</div>"
     },
     "metadata": {},
     "execution_count": 2
    }
   ],
   "source": [
    "df = pd.read_csv('Cleaned.csv')\n",
    "df.head()"
   ]
  },
  {
   "cell_type": "code",
   "execution_count": 26,
   "metadata": {},
   "outputs": [
    {
     "output_type": "stream",
     "name": "stdout",
     "text": [
      "1000\n",
      "2000\n",
      "3000\n",
      "4000\n",
      "5000\n",
      "6000\n",
      "7000\n",
      "8000\n",
      "9000\n",
      "10000\n",
      "11000\n",
      "12000\n",
      "13000\n",
      "14000\n",
      "15000\n",
      "16000\n",
      "17000\n",
      "18000\n",
      "19000\n",
      "20000\n",
      "21000\n",
      "22000\n",
      "23000\n",
      "24000\n",
      "25000\n",
      "26000\n",
      "27000\n",
      "28000\n",
      "29000\n",
      "30000\n",
      "31000\n",
      "32000\n",
      "33000\n",
      "34000\n",
      "35000\n",
      "36000\n",
      "37000\n",
      "38000\n",
      "39000\n",
      "40000\n",
      "41000\n",
      "42000\n",
      "43000\n",
      "44000\n",
      "45000\n",
      "46000\n",
      "47000\n",
      "48000\n",
      "49000\n",
      "50000\n",
      "51000\n",
      "52000\n",
      "53000\n",
      "54000\n",
      "55000\n",
      "56000\n",
      "57000\n",
      "58000\n",
      "59000\n",
      "60000\n",
      "61000\n",
      "62000\n",
      "63000\n",
      "64000\n",
      "65000\n",
      "66000\n",
      "67000\n",
      "68000\n",
      "69000\n",
      "70000\n",
      "71000\n",
      "72000\n",
      "73000\n",
      "74000\n",
      "75000\n",
      "76000\n",
      "77000\n",
      "78000\n",
      "79000\n",
      "80000\n",
      "81000\n",
      "82000\n",
      "83000\n",
      "84000\n",
      "85000\n",
      "86000\n",
      "87000\n",
      "88000\n",
      "89000\n",
      "90000\n",
      "91000\n",
      "92000\n",
      "93000\n",
      "94000\n",
      "95000\n",
      "96000\n"
     ]
    }
   ],
   "source": [
    "i = 0\n",
    "data = []\n",
    "labels = []\n",
    "errorImages = []\n",
    "for row in df.index:\n",
    "    p = str(df['FileName'][row])\n",
    "    p_ = p.split('-')\n",
    "    folderName = p_[0]\n",
    "    innerName = p_[0] + '-' + p_[1]\n",
    "    fileName = p  + '.png'\n",
    "    filepath = \"../data/words/\" + folderName + '/' + innerName + '/' + fileName \n",
    "    \n",
    "    try:\n",
    "        img = image.load_img(filepath,target_size = (32,128),color_mode = \"grayscale\",interpolation = \"nearest\")\n",
    "        img = image.img_to_array(img)\n",
    "        data.append(img)\n",
    "        word = str(df['Word'][row])\n",
    "        labels.append(word)\n",
    "        i += 1\n",
    "        if(i%1000 == 0):\n",
    "            print(i)\n",
    "\n",
    "    except:\n",
    "        errorImages.append(filepath)"
   ]
  },
  {
   "cell_type": "code",
   "execution_count": 27,
   "metadata": {},
   "outputs": [
    {
     "output_type": "stream",
     "name": "stdout",
     "text": [
      "96454\n96454\n2\n['../data/words/a01/a01-117/a01-117-05-02.png', '../data/words/r06/r06-022/r06-022-03-05.png']\n"
     ]
    }
   ],
   "source": [
    "print(len(data))\n",
    "print(len(labels))\n",
    "print(len(errorImages))\n",
    "print(errorImages)"
   ]
  },
  {
   "cell_type": "code",
   "execution_count": 31,
   "metadata": {},
   "outputs": [],
   "source": [
    "X = np.asarray(data,dtype = \"uint8\")\n",
    "Y = np.asarray(labels)"
   ]
  },
  {
   "cell_type": "code",
   "execution_count": 32,
   "metadata": {},
   "outputs": [],
   "source": [
    "np.save('X.npy',X)\n",
    "np.save('Y.npy',Y)"
   ]
  },
  {
   "cell_type": "code",
   "execution_count": 40,
   "metadata": {},
   "outputs": [
    {
     "output_type": "display_data",
     "data": {
      "text/plain": "<Figure size 432x288 with 1 Axes>",
      "image/svg+xml": "<?xml version=\"1.0\" encoding=\"utf-8\" standalone=\"no\"?>\r\n<!DOCTYPE svg PUBLIC \"-//W3C//DTD SVG 1.1//EN\"\r\n  \"http://www.w3.org/Graphics/SVG/1.1/DTD/svg11.dtd\">\r\n<!-- Created with matplotlib (https://matplotlib.org/) -->\r\n<svg height=\"98.1pt\" version=\"1.1\" viewBox=\"0 0 349.2 98.1\" width=\"349.2pt\" xmlns=\"http://www.w3.org/2000/svg\" xmlns:xlink=\"http://www.w3.org/1999/xlink\">\r\n <defs>\r\n  <style type=\"text/css\">\r\n*{stroke-linecap:butt;stroke-linejoin:round;}\r\n  </style>\r\n </defs>\r\n <g id=\"figure_1\">\r\n  <g id=\"patch_1\">\r\n   <path d=\"M 0 98.1 \r\nL 349.2 98.1 \r\nL 349.2 0 \r\nL 0 0 \r\nz\r\n\" style=\"fill:none;\"/>\r\n  </g>\r\n  <g id=\"axes_1\">\r\n   <g clip-path=\"url(#p6c59ebf506)\">\r\n    <image height=\"84\" id=\"imageeebdbaa902\" transform=\"scale(1 -1)translate(0 -84)\" width=\"335\" x=\"7.2\" xlink:href=\"data:image/png;base64,\r\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\" y=\"-6.9\"/>\r\n   </g>\r\n  </g>\r\n </g>\r\n <defs>\r\n  <clipPath id=\"p6c59ebf506\">\r\n   <rect height=\"83.7\" width=\"334.8\" x=\"7.2\" y=\"7.2\"/>\r\n  </clipPath>\r\n </defs>\r\n</svg>\r\n",
      "image/png": "[encoded data removed]"
     },
     "metadata": {
      "needs_background": "light"
     }
    },
    {
     "output_type": "stream",
     "name": "stdout",
     "text": [
      "gives\n"
     ]
    }
   ],
   "source": [
    "plt.imshow(data[23416].reshape((32,128)),cmap=\"gray\")\n",
    "plt.axis(\"off\")\n",
    "plt.show()\n",
    "print(labels[23416])"
   ]
  },
  {
   "cell_type": "code",
   "execution_count": null,
   "metadata": {},
   "outputs": [],
   "source": []
  }
 ]
}